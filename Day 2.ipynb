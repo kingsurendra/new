{
 "cells": [
  {
   "cell_type": "code",
   "execution_count": 1,
   "id": "2d96ef8b",
   "metadata": {},
   "outputs": [
    {
     "name": "stdout",
     "output_type": "stream",
     "text": [
      "Welcome to the Day2 session on python\n"
     ]
    }
   ],
   "source": [
    "print(\"Welcome to the Day2 session on python\")"
   ]
  },
  {
   "cell_type": "code",
   "execution_count": 117,
   "id": "3124d99a",
   "metadata": {},
   "outputs": [
    {
     "name": "stdout",
     "output_type": "stream",
     "text": [
      "15  *  1  = 15\n",
      "15  *  2  = 30\n",
      "15  *  3  = 45\n",
      "15  *  4  = 60\n",
      "15  *  5  = 75\n",
      "15  *  6  = 90\n",
      "15  *  7  = 105\n",
      "15  *  8  = 120\n",
      "15  *  9  = 135\n",
      "15  *  10  = 150\n"
     ]
    }
   ],
   "source": [
    "#15 Table\n",
    "\n",
    "a = 1\n",
    "for i in range(1,11):\n",
    "    print(\"15  * \",i, \" = {}\".format(15*i))"
   ]
  },
  {
   "cell_type": "code",
   "execution_count": 4,
   "id": "acacdecc",
   "metadata": {},
   "outputs": [
    {
     "name": "stdout",
     "output_type": "stream",
     "text": [
      "correct\n",
      "23\n",
      "54\n"
     ]
    }
   ],
   "source": [
    "lst = ['correct',23,54, 'wrong',58,123]\n",
    "for i in range(int(len(lst))):\n",
    "    if lst[i] == 'wrong':\n",
    "        break\n",
    "    print(lst[i])"
   ]
  },
  {
   "cell_type": "code",
   "execution_count": 7,
   "id": "e3b643ea",
   "metadata": {},
   "outputs": [
    {
     "name": "stdout",
     "output_type": "stream",
     "text": [
      "1988\n",
      "1988 is leap year\n"
     ]
    }
   ],
   "source": [
    "year = int(input())\n",
    "if year % 100 != 0 and year % 4 == 0 or year % 400 == 0:\n",
    "    print(f\"{year} is leap year\")\n",
    "else:\n",
    "    print(f\"{year} is not leap year\")"
   ]
  },
  {
   "cell_type": "code",
   "execution_count": 97,
   "id": "bd006d30",
   "metadata": {},
   "outputs": [
    {
     "name": "stdout",
     "output_type": "stream",
     "text": [
      "* * * * * \n",
      "    * \n",
      "    * \n",
      "    * \n",
      "    * \n",
      "\n",
      "\n",
      "*       *\n",
      "*       *\n",
      "* * * * *       *\n",
      "*       *\n",
      "*       *\n"
     ]
    }
   ],
   "source": [
    "for i in range(0,5):\n",
    "    print(\"*\",end=' ')\n",
    "for i in range(0,5):\n",
    "    if i // 2 != 2:\n",
    "        print(\"\\n    *\",end=' ')\n",
    "print(\"\\n\\n\")    \n",
    "\n",
    "for i in range(0,5):\n",
    "    print(\"*\",end=' ')\n",
    "    \n",
    "    if i == 2:\n",
    "        for m in range(0,4):\n",
    "            print(\"*\",end=' ')\n",
    "            \n",
    "    print(\"      \",end=\"*\\n\")\n",
    "    "
   ]
  },
  {
   "cell_type": "code",
   "execution_count": 98,
   "id": "d1e31280",
   "metadata": {},
   "outputs": [
    {
     "name": "stdout",
     "output_type": "stream",
     "text": [
      "['correct', 23, 54, 'wrong', 58, 123]\n"
     ]
    }
   ],
   "source": [
    "print(lst)"
   ]
  },
  {
   "cell_type": "code",
   "execution_count": 99,
   "id": "928b1650",
   "metadata": {},
   "outputs": [
    {
     "name": "stdout",
     "output_type": "stream",
     "text": [
      "['correct', 23]\n"
     ]
    }
   ],
   "source": [
    "print(lst[:2])"
   ]
  },
  {
   "cell_type": "code",
   "execution_count": 100,
   "id": "b7f89a8a",
   "metadata": {},
   "outputs": [
    {
     "name": "stdout",
     "output_type": "stream",
     "text": [
      "[23, 54, 'wrong', 58, 123]\n"
     ]
    }
   ],
   "source": [
    "print(lst[1:])"
   ]
  },
  {
   "cell_type": "code",
   "execution_count": 101,
   "id": "78ce503f",
   "metadata": {},
   "outputs": [
    {
     "name": "stdout",
     "output_type": "stream",
     "text": [
      "['wrong', 58]\n"
     ]
    }
   ],
   "source": [
    "print(lst[3:5])"
   ]
  },
  {
   "cell_type": "code",
   "execution_count": 102,
   "id": "7491379d",
   "metadata": {},
   "outputs": [
    {
     "name": "stdout",
     "output_type": "stream",
     "text": [
      "123\n"
     ]
    }
   ],
   "source": [
    "#Accessing last element\n",
    "\n",
    "print(lst[-1])"
   ]
  },
  {
   "cell_type": "code",
   "execution_count": 103,
   "id": "8cf34a2c",
   "metadata": {},
   "outputs": [
    {
     "name": "stdout",
     "output_type": "stream",
     "text": [
      "[123]\n"
     ]
    }
   ],
   "source": [
    "print(lst[-1:])"
   ]
  },
  {
   "cell_type": "code",
   "execution_count": 104,
   "id": "71c1e9d3",
   "metadata": {},
   "outputs": [
    {
     "name": "stdout",
     "output_type": "stream",
     "text": [
      "[54, 'wrong', 58, 123]\n"
     ]
    }
   ],
   "source": [
    "print(lst[-4:])"
   ]
  },
  {
   "cell_type": "code",
   "execution_count": 105,
   "id": "387a5247",
   "metadata": {},
   "outputs": [
    {
     "name": "stdout",
     "output_type": "stream",
     "text": [
      "hai\n"
     ]
    }
   ],
   "source": [
    "a = \"hai\"\n",
    "print(a)"
   ]
  },
  {
   "cell_type": "code",
   "execution_count": 108,
   "id": "3dd5d67c",
   "metadata": {},
   "outputs": [],
   "source": [
    "a = \"Hello\""
   ]
  },
  {
   "cell_type": "code",
   "execution_count": 109,
   "id": "11fd30e4",
   "metadata": {},
   "outputs": [
    {
     "name": "stdout",
     "output_type": "stream",
     "text": [
      "Hello\n"
     ]
    }
   ],
   "source": [
    "print(a)"
   ]
  },
  {
   "cell_type": "code",
   "execution_count": 110,
   "id": "266c32da",
   "metadata": {},
   "outputs": [],
   "source": [
    "#Lists\n",
    "\n",
    "del lst"
   ]
  },
  {
   "cell_type": "code",
   "execution_count": 111,
   "id": "b076d1ac",
   "metadata": {},
   "outputs": [
    {
     "name": "stdout",
     "output_type": "stream",
     "text": [
      "enter how many values u have to enter into list6\n",
      "Enter element to insert: 34\n",
      "Enter element to insert: 56\n",
      "Enter element to insert: 78\n",
      "Enter element to insert: 90\n",
      "Enter element to insert: 12\n",
      "Enter element to insert: 34\n",
      "[1, 2, 3, '34', '56', '78', '90', '12', '34']\n"
     ]
    }
   ],
   "source": [
    "lst = [1,2,3]\n",
    "num = int(input(\"enter how many values u have to enter into list\"))\n",
    "for i in range(0,num):\n",
    "    lst.append(input(\"Enter element to insert: \"))\n",
    "\n",
    "print(lst)\n"
   ]
  },
  {
   "cell_type": "code",
   "execution_count": 113,
   "id": "4a67e778",
   "metadata": {},
   "outputs": [],
   "source": [
    "lst.remove(3)"
   ]
  },
  {
   "cell_type": "code",
   "execution_count": 114,
   "id": "5ae4a655",
   "metadata": {},
   "outputs": [
    {
     "data": {
      "text/plain": [
       "[1, 2, '34', '56', '78', '90', '12', '34']"
      ]
     },
     "execution_count": 114,
     "metadata": {},
     "output_type": "execute_result"
    }
   ],
   "source": [
    "lst"
   ]
  },
  {
   "cell_type": "code",
   "execution_count": 115,
   "id": "d6a8d672",
   "metadata": {
    "scrolled": true
   },
   "outputs": [
    {
     "ename": "AttributeError",
     "evalue": "'list' object has no attribute 'push'",
     "output_type": "error",
     "traceback": [
      "\u001b[1;31m---------------------------------------------------------------------------\u001b[0m",
      "\u001b[1;31mAttributeError\u001b[0m                            Traceback (most recent call last)",
      "\u001b[1;32m<ipython-input-115-984e600ec861>\u001b[0m in \u001b[0;36m<module>\u001b[1;34m\u001b[0m\n\u001b[1;32m----> 1\u001b[1;33m \u001b[0mlst\u001b[0m\u001b[1;33m.\u001b[0m\u001b[0mpush\u001b[0m\u001b[1;33m(\u001b[0m\u001b[1;36m34767\u001b[0m\u001b[1;33m)\u001b[0m\u001b[1;33m\u001b[0m\u001b[1;33m\u001b[0m\u001b[0m\n\u001b[0m",
      "\u001b[1;31mAttributeError\u001b[0m: 'list' object has no attribute 'push'"
     ]
    }
   ],
   "source": [
    "lst.push(34767)"
   ]
  },
  {
   "cell_type": "code",
   "execution_count": 116,
   "id": "de36c71f",
   "metadata": {},
   "outputs": [
    {
     "name": "stdout",
     "output_type": "stream",
     "text": [
      "14\n"
     ]
    }
   ],
   "source": [
    "company = \"DXC Technology\"\n",
    "print(len(company))"
   ]
  },
  {
   "cell_type": "code",
   "execution_count": 118,
   "id": "243dce05",
   "metadata": {},
   "outputs": [
    {
     "name": "stdout",
     "output_type": "stream",
     "text": [
      "1\n"
     ]
    }
   ],
   "source": [
    "print(a)"
   ]
  },
  {
   "cell_type": "code",
   "execution_count": 119,
   "id": "e12cda2e",
   "metadata": {},
   "outputs": [
    {
     "data": {
      "text/plain": [
       "[1, 2, '34', '56', '78', '90', '12', '34']"
      ]
     },
     "execution_count": 119,
     "metadata": {},
     "output_type": "execute_result"
    }
   ],
   "source": [
    "lst"
   ]
  },
  {
   "cell_type": "code",
   "execution_count": 121,
   "id": "192a56c4",
   "metadata": {},
   "outputs": [
    {
     "ename": "TypeError",
     "evalue": "unsupported operand type(s) for +: 'int' and 'str'",
     "output_type": "error",
     "traceback": [
      "\u001b[1;31m---------------------------------------------------------------------------\u001b[0m",
      "\u001b[1;31mTypeError\u001b[0m                                 Traceback (most recent call last)",
      "\u001b[1;32m<ipython-input-121-f434d42f5f23>\u001b[0m in \u001b[0;36m<module>\u001b[1;34m\u001b[0m\n\u001b[1;32m----> 1\u001b[1;33m \u001b[0mprint\u001b[0m\u001b[1;33m(\u001b[0m\u001b[0msum\u001b[0m\u001b[1;33m(\u001b[0m\u001b[0mlst\u001b[0m\u001b[1;33m)\u001b[0m\u001b[1;33m)\u001b[0m\u001b[1;33m\u001b[0m\u001b[1;33m\u001b[0m\u001b[0m\n\u001b[0m",
      "\u001b[1;31mTypeError\u001b[0m: unsupported operand type(s) for +: 'int' and 'str'"
     ]
    }
   ],
   "source": [
    "print(sum(lst))"
   ]
  },
  {
   "cell_type": "code",
   "execution_count": 122,
   "id": "de5dce65",
   "metadata": {},
   "outputs": [
    {
     "data": {
      "text/plain": [
       "list"
      ]
     },
     "execution_count": 122,
     "metadata": {},
     "output_type": "execute_result"
    }
   ],
   "source": [
    "type(lst)"
   ]
  },
  {
   "cell_type": "code",
   "execution_count": 124,
   "id": "618132a8",
   "metadata": {},
   "outputs": [
    {
     "name": "stdout",
     "output_type": "stream",
     "text": [
      "55\n"
     ]
    }
   ],
   "source": [
    "b = [1,2,3,4,5,6,7,8,9,10]\n",
    "print(sum(b))\n"
   ]
  },
  {
   "cell_type": "code",
   "execution_count": 134,
   "id": "5a9d5b06",
   "metadata": {
    "scrolled": true
   },
   "outputs": [
    {
     "name": "stdout",
     "output_type": "stream",
     "text": [
      "[23, 234, 34, 324, 32434, 1, 2, 3, 4, 5, 6, 7, 8, 9, 10]\n"
     ]
    }
   ],
   "source": [
    "lst1 = [23,234,34,324,32434]\n",
    "lst2 = [1,2,3,4,5,6,7,8,9,10]\n",
    "finallst = lst1 + lst2\n",
    "print(finallst)"
   ]
  },
  {
   "cell_type": "code",
   "execution_count": 131,
   "id": "5849d84c",
   "metadata": {},
   "outputs": [
    {
     "name": "stdout",
     "output_type": "stream",
     "text": [
      "[23, 234, 34, 324, 32434] [1, 2, 3, 4, 5, 6, 7, 8, 9, 10]\n"
     ]
    }
   ],
   "source": [
    "print(a,b)"
   ]
  },
  {
   "cell_type": "code",
   "execution_count": 136,
   "id": "73eb3f94",
   "metadata": {
    "scrolled": true
   },
   "outputs": [
    {
     "name": "stdout",
     "output_type": "stream",
     "text": [
      "33104\n",
      "32434\n",
      "1\n",
      "15\n"
     ]
    }
   ],
   "source": [
    "print(sum(finallst))\n",
    "print(max(finallst))\n",
    "print(min(finallst))\n",
    "print(len(finallst))"
   ]
  },
  {
   "cell_type": "code",
   "execution_count": 137,
   "id": "5646fc4f",
   "metadata": {},
   "outputs": [
    {
     "name": "stdout",
     "output_type": "stream",
     "text": [
      "[1, 2, 3, 'fa', 'afsdf']\n"
     ]
    }
   ],
   "source": [
    "d,e = [1,2,3],[\"fa\",\"afsdf\"]\n",
    "print(d + e)"
   ]
  },
  {
   "cell_type": "code",
   "execution_count": 138,
   "id": "d306f16a",
   "metadata": {},
   "outputs": [
    {
     "name": "stdout",
     "output_type": "stream",
     "text": [
      "(2, 3, 4)\n"
     ]
    }
   ],
   "source": [
    "# Tuples\n",
    "\n",
    "tpl,tpl1 = (1,2,3,4),(23,54,2,2,23,5)\n",
    "print(tpl[-3:])"
   ]
  },
  {
   "cell_type": "code",
   "execution_count": 139,
   "id": "e30370fe",
   "metadata": {},
   "outputs": [
    {
     "name": "stdout",
     "output_type": "stream",
     "text": [
      "(54, 2, 2, 23)\n"
     ]
    }
   ],
   "source": [
    "print(tpl1[-5:-1])"
   ]
  },
  {
   "cell_type": "code",
   "execution_count": 140,
   "id": "b4547512",
   "metadata": {},
   "outputs": [
    {
     "data": {
      "text/plain": [
       "(1, 2, 3, 4)"
      ]
     },
     "execution_count": 140,
     "metadata": {},
     "output_type": "execute_result"
    }
   ],
   "source": [
    "tpl"
   ]
  },
  {
   "cell_type": "code",
   "execution_count": 141,
   "id": "ffcb575b",
   "metadata": {},
   "outputs": [
    {
     "ename": "SyntaxError",
     "evalue": "starred assignment target must be in a list or tuple (<ipython-input-141-166ca06440f7>, line 1)",
     "output_type": "error",
     "traceback": [
      "\u001b[1;36m  File \u001b[1;32m\"<ipython-input-141-166ca06440f7>\"\u001b[1;36m, line \u001b[1;32m1\u001b[0m\n\u001b[1;33m    (*newtpl) = tpl\u001b[0m\n\u001b[1;37m     ^\u001b[0m\n\u001b[1;31mSyntaxError\u001b[0m\u001b[1;31m:\u001b[0m starred assignment target must be in a list or tuple\n"
     ]
    }
   ],
   "source": [
    "(*newtpl) = tpl"
   ]
  },
  {
   "cell_type": "code",
   "execution_count": 146,
   "id": "03ead3a2",
   "metadata": {},
   "outputs": [],
   "source": [
    "#unpacking\n",
    "(tpl1, *tpl2) = tpl"
   ]
  },
  {
   "cell_type": "code",
   "execution_count": 147,
   "id": "4eaff754",
   "metadata": {},
   "outputs": [
    {
     "data": {
      "text/plain": [
       "1"
      ]
     },
     "execution_count": 147,
     "metadata": {},
     "output_type": "execute_result"
    }
   ],
   "source": [
    "tpl1"
   ]
  },
  {
   "cell_type": "code",
   "execution_count": 148,
   "id": "1d90f956",
   "metadata": {},
   "outputs": [
    {
     "data": {
      "text/plain": [
       "(1, 2, 3, 4)"
      ]
     },
     "execution_count": 148,
     "metadata": {},
     "output_type": "execute_result"
    }
   ],
   "source": [
    "tpl"
   ]
  },
  {
   "cell_type": "code",
   "execution_count": 149,
   "id": "cbe857a9",
   "metadata": {},
   "outputs": [
    {
     "data": {
      "text/plain": [
       "[2, 3, 4]"
      ]
     },
     "execution_count": 149,
     "metadata": {},
     "output_type": "execute_result"
    }
   ],
   "source": [
    "tpl2"
   ]
  },
  {
   "cell_type": "code",
   "execution_count": 152,
   "id": "304e9831",
   "metadata": {},
   "outputs": [
    {
     "name": "stdout",
     "output_type": "stream",
     "text": [
      "Enter item to add to list12\n",
      "['hai', 12, 342, 'hello', '12']\n",
      "['welcome', 'hai', 12, 342, 'hello', '12']\n"
     ]
    }
   ],
   "source": [
    "#List\n",
    "lst = [\"hai\",12,342,\"hello\"]\n",
    "Item = input(\"Enter item to add to list\")\n",
    "lst.append(Item)\n",
    "print(lst)\n",
    "lst.insert(0,\"welcome\")\n",
    "print(lst)\n",
    "# remove items\n",
    "lst.remove(\"hai\")\n",
    "print(lst)\n",
    "lst.pop(1)\n",
    "print(lst)\n",
    "lst[1] = \"to Dxc\"\n",
    "print(lst)"
   ]
  },
  {
   "cell_type": "code",
   "execution_count": 155,
   "id": "6cce5466",
   "metadata": {},
   "outputs": [
    {
     "name": "stdout",
     "output_type": "stream",
     "text": [
      "['welcome', 12, 342, 'hello', '12']\n"
     ]
    }
   ],
   "source": [
    "# remove items\n",
    "lst.remove(\"hai\")\n",
    "print(lst)"
   ]
  },
  {
   "cell_type": "code",
   "execution_count": 156,
   "id": "70d57756",
   "metadata": {},
   "outputs": [
    {
     "name": "stdout",
     "output_type": "stream",
     "text": [
      "['welcome', 342, 'hello', '12']\n"
     ]
    }
   ],
   "source": [
    "lst.pop(1)\n",
    "print(lst)"
   ]
  },
  {
   "cell_type": "code",
   "execution_count": 157,
   "id": "045b61dd",
   "metadata": {},
   "outputs": [
    {
     "name": "stdout",
     "output_type": "stream",
     "text": [
      "['welcome', 'to Dxc', 'hello', '12']\n"
     ]
    }
   ],
   "source": [
    "lst[1] = \"to Dxc\"\n",
    "print(lst)"
   ]
  },
  {
   "cell_type": "code",
   "execution_count": 159,
   "id": "2d8cf50d",
   "metadata": {},
   "outputs": [
    {
     "name": "stdout",
     "output_type": "stream",
     "text": [
      "['welcome', 'to Dxc', 'hello', '12']\n"
     ]
    }
   ],
   "source": [
    "print(lst)"
   ]
  },
  {
   "cell_type": "code",
   "execution_count": 160,
   "id": "99cfc23a",
   "metadata": {},
   "outputs": [
    {
     "name": "stdout",
     "output_type": "stream",
     "text": [
      "['welcome', 'to Dxc', 'hello', '12']\n"
     ]
    }
   ],
   "source": [
    "print(lst)"
   ]
  },
  {
   "cell_type": "code",
   "execution_count": 161,
   "id": "cfc78a2c",
   "metadata": {},
   "outputs": [
    {
     "name": "stdout",
     "output_type": "stream",
     "text": [
      "['welcome', 'surendra', 'to Dxc', 'hello', '12']\n"
     ]
    }
   ],
   "source": [
    "lst.insert(1,\"surendra\")\n",
    "print(lst)"
   ]
  },
  {
   "cell_type": "code",
   "execution_count": null,
   "id": "bc6e3e08",
   "metadata": {},
   "outputs": [],
   "source": []
  }
 ],
 "metadata": {
  "kernelspec": {
   "display_name": "Python 3",
   "language": "python",
   "name": "python3"
  },
  "language_info": {
   "codemirror_mode": {
    "name": "ipython",
    "version": 3
   },
   "file_extension": ".py",
   "mimetype": "text/x-python",
   "name": "python",
   "nbconvert_exporter": "python",
   "pygments_lexer": "ipython3",
   "version": "3.8.8"
  }
 },
 "nbformat": 4,
 "nbformat_minor": 5
}
